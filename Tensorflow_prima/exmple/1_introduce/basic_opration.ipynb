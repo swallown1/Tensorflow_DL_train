{
 "cells": [
  {
   "cell_type": "code",
   "execution_count": 1,
   "metadata": {},
   "outputs": [],
   "source": [
    "import tensorflow as tf"
   ]
  },
  {
   "cell_type": "code",
   "execution_count": 3,
   "metadata": {},
   "outputs": [
    {
     "name": "stdout",
     "output_type": "stream",
     "text": [
      "基本运算\n",
      "a+b=5\n",
      "a*b=6\n"
     ]
    }
   ],
   "source": [
    "print(\"基本运算\")\n",
    "a = tf.constant(2)\n",
    "b = tf.constant(3)\n",
    "\n",
    "with tf.Session() as sess:\n",
    "    print(\"a+b=%i\" % sess.run(a+b))\n",
    "    print(\"a*b=%i\" % sess.run(a*b))"
   ]
  },
  {
   "cell_type": "code",
   "execution_count": 9,
   "metadata": {},
   "outputs": [
    {
     "name": "stdout",
     "output_type": "stream",
     "text": [
      "pa+pb=5\n",
      "pa*pb=6\n"
     ]
    }
   ],
   "source": [
    "# 图输入\n",
    "# 用占位符想定义   在run的时候 用feed_dir进行赋值\n",
    "pa = tf.placeholder(tf.int32)\n",
    "pb = tf.placeholder(tf.int32)\n",
    "\n",
    "#定义一些运算\n",
    "add = tf.add(pa,pb)\n",
    "matmul = tf.multiply(pa,pb)\n",
    "\n",
    "with tf.Session() as sess:\n",
    "    print(\"pa+pb=%i\" % sess.run(add,feed_dict={pa:2,pb:3}))\n",
    "    print(\"pa*pb=%i\" % sess.run(matmul,feed_dict={pa:2,pb:3}))"
   ]
  },
  {
   "cell_type": "code",
   "execution_count": null,
   "metadata": {},
   "outputs": [],
   "source": [
    "# 矩阵运算   定义好constant矩阵，然后定义好运算  最后通过run得到返回结果\n",
    "\n",
    "ma = tf.constant([3,3])\n",
    "mb = tf.constant([[2],[2]])\n",
    "\n",
    "matmul = tf.matmul(ma,mb)\n",
    "\n",
    "with tf.Session() as sess:\n",
    "    output = sess.run(matmul)\n",
    "    print()"
   ]
  },
  {
   "cell_type": "code",
   "execution_count": null,
   "metadata": {},
   "outputs": [],
   "source": []
  },
  {
   "cell_type": "code",
   "execution_count": null,
   "metadata": {},
   "outputs": [],
   "source": []
  },
  {
   "cell_type": "code",
   "execution_count": null,
   "metadata": {},
   "outputs": [],
   "source": []
  },
  {
   "cell_type": "code",
   "execution_count": null,
   "metadata": {},
   "outputs": [],
   "source": []
  },
  {
   "cell_type": "code",
   "execution_count": null,
   "metadata": {},
   "outputs": [],
   "source": []
  },
  {
   "cell_type": "code",
   "execution_count": null,
   "metadata": {},
   "outputs": [],
   "source": []
  },
  {
   "cell_type": "code",
   "execution_count": null,
   "metadata": {},
   "outputs": [],
   "source": []
  }
 ],
 "metadata": {
  "kernelspec": {
   "display_name": "Python [conda env:tensorflow] *",
   "language": "python",
   "name": "conda-env-tensorflow-py"
  },
  "language_info": {
   "codemirror_mode": {
    "name": "ipython",
    "version": 3
   },
   "file_extension": ".py",
   "mimetype": "text/x-python",
   "name": "python",
   "nbconvert_exporter": "python",
   "pygments_lexer": "ipython3",
   "version": "3.6.9"
  }
 },
 "nbformat": 4,
 "nbformat_minor": 2
}
