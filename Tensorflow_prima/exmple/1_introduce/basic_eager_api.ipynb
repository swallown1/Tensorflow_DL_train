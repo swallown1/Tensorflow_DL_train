{
 "cells": [
  {
   "cell_type": "code",
   "execution_count": 2,
   "metadata": {},
   "outputs": [],
   "source": [
    "'''\n",
    "急切模式API\n",
    "'''\n",
    "\n",
    "import tensorflow as tf\n",
    "import tensorflow.contrib.eager as tfe\n",
    "import numpy as np"
   ]
  },
  {
   "cell_type": "code",
   "execution_count": 4,
   "metadata": {},
   "outputs": [
    {
     "name": "stdout",
     "output_type": "stream",
     "text": [
      "设置急切模式\n"
     ]
    }
   ],
   "source": [
    "print(\"设置急切模式\")\n",
    "tfe.enable_eager_execution()"
   ]
  },
  {
   "cell_type": "code",
   "execution_count": 5,
   "metadata": {},
   "outputs": [
    {
     "name": "stdout",
     "output_type": "stream",
     "text": [
      "定义constant向量\n",
      "a = 2\n",
      "b = 3\n"
     ]
    }
   ],
   "source": [
    "print(\"定义constant向量\")\n",
    "a = tf.constant(2)\n",
    "print(\"a = %i\" % a)\n",
    "b = tf.constant(3)\n",
    "print(\"b = %i\" % b)"
   ]
  },
  {
   "cell_type": "code",
   "execution_count": 6,
   "metadata": {},
   "outputs": [
    {
     "name": "stdout",
     "output_type": "stream",
     "text": [
      "不使用tf.Session() 进行运算\n",
      "a+b = 5\n",
      "a*b = 6\n"
     ]
    }
   ],
   "source": [
    "print(\"不使用tf.Session() 进行运算\")\n",
    "c = a+b\n",
    "print(\"a+b = %i\" % c)\n",
    "d = a*b\n",
    "print(\"a*b = %i\" % d)"
   ]
  },
  {
   "cell_type": "code",
   "execution_count": 8,
   "metadata": {},
   "outputs": [
    {
     "name": "stdout",
     "output_type": "stream",
     "text": [
      "用comstant 定义矩阵或向量\n",
      "Tensor:\n",
      " ma = tf.Tensor(\n",
      "[[1. 2. 3.]\n",
      " [4. 5. 6.]\n",
      " [7. 8. 9.]], shape=(3, 3), dtype=float32)\n",
      "Tensor:\n",
      " mb = tf.Tensor(\n",
      "[[2. 2. 3.]\n",
      " [5. 5. 5.]\n",
      " [8. 8. 8.]], shape=(3, 3), dtype=float32)\n"
     ]
    }
   ],
   "source": [
    "print(\"用comstant 定义矩阵或向量\")\n",
    "ma = tf.constant([[1,2,3],[4,5,6],[7,8,9]],dtype=tf.float32)\n",
    "print(\"Tensor:\\n ma = %s\" % ma)\n",
    "\n",
    "mb = tf.constant([[2,2,3],[5,5,5],[8,8,8]],dtype=tf.float32)\n",
    "print(\"Tensor:\\n mb = %s\" % mb)"
   ]
  },
  {
   "cell_type": "code",
   "execution_count": 12,
   "metadata": {},
   "outputs": [
    {
     "name": "stdout",
     "output_type": "stream",
     "text": [
      "矩阵运算不使用　ｔｆ．Ｓｅｓｓｉｏｎ（）\n",
      "ma+mb = tf.Tensor(\n",
      "[[ 3.  4.  6.]\n",
      " [ 9. 10. 11.]\n",
      " [15. 16. 17.]], shape=(3, 3), dtype=float32)\n",
      "ma*mb = tf.Tensor(\n",
      "[[ 2.  4.  9.]\n",
      " [20. 25. 30.]\n",
      " [56. 64. 72.]], shape=(3, 3), dtype=float32)\n",
      "矩阵相乘ma*mb = tf.Tensor(\n",
      "[[ 36.  36.  37.]\n",
      " [ 81.  81.  85.]\n",
      " [126. 126. 133.]], shape=(3, 3), dtype=float32)\n"
     ]
    }
   ],
   "source": [
    "print(\"矩阵运算不使用　ｔｆ．Ｓｅｓｓｉｏｎ（）\")\n",
    "mc= ma+mb\n",
    "print(\"ma+mb = %s\" % mc)\n",
    "md = ma*mb\n",
    "print(\"ma*mb = %s\" % md)\n",
    "me = tf.matmul(ma,mb)\n",
    "print(\"矩阵相乘ma*mb = %s\" % me)\n"
   ]
  },
  {
   "cell_type": "code",
   "execution_count": null,
   "metadata": {},
   "outputs": [],
   "source": [
    "print('遍历每个元素')\n",
    "for i in range(len()):\n",
    "    for j in range(ma[0].shape[])"
   ]
  }
 ],
 "metadata": {
  "kernelspec": {
   "display_name": "Python [conda env:tensorflow] *",
   "language": "python",
   "name": "conda-env-tensorflow-py"
  },
  "language_info": {
   "codemirror_mode": {
    "name": "ipython",
    "version": 3
   },
   "file_extension": ".py",
   "mimetype": "text/x-python",
   "name": "python",
   "nbconvert_exporter": "python",
   "pygments_lexer": "ipython3",
   "version": "3.6.9"
  }
 },
 "nbformat": 4,
 "nbformat_minor": 2
}
